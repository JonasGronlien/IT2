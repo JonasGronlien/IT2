{
 "cells": [
  {
   "cell_type": "code",
   "execution_count": 1,
   "metadata": {},
   "outputs": [
    {
     "name": "stdout",
     "output_type": "stream",
     "text": [
      "hei\n"
     ]
    }
   ],
   "source": [
    "print(\"hei\")"
   ]
  },
  {
   "cell_type": "code",
   "execution_count": 4,
   "metadata": {},
   "outputs": [],
   "source": [
    "import json \n",
    "with open(\"spotify.json\", encoding=\"utf-8\") as fil:\n",
    "    sanger = json.load(fil)"
   ]
  },
  {
   "cell_type": "code",
   "execution_count": 9,
   "metadata": {},
   "outputs": [
    {
     "name": "stdout",
     "output_type": "stream",
     "text": [
      "{'navn': 'Believer', 'artist': 'Imagine Dragons', 'bilde_url': 'https://i.scdn.co/image/ab67616d00001e025675e83f707f1d7271e5cf8a', 'plassering': 173, 'forrige_plassering': 185, 'topplassering': 16, 'topp_dato': '2017-06-29', 'uker_paa_listen': 358, 'antall_streams': 8322500}\n"
     ]
    }
   ],
   "source": [
    "# 1-1\n",
    "flest_uker = sanger[0]\n",
    "for sang in sanger:\n",
    "    if sang[\"uker_paa_listen\"] > flest_uker[\"uker_paa_listen\"]:\n",
    "        flest_uker = sang \n",
    "print(flest_uker)\n"
   ]
  },
  {
   "cell_type": "code",
   "execution_count": 10,
   "metadata": {},
   "outputs": [
    {
     "name": "stdout",
     "output_type": "stream",
     "text": [
      "120017297\n"
     ]
    }
   ],
   "source": [
    "# 1-2\n",
    "antall_streams = 0\n",
    "for sang in sanger:\n",
    "    if sang[\"artist\"] == \"Taylor Swift\":\n",
    "        antall_streams += sang[\"antall_streams\"]\n",
    "print(antall_streams)\n",
    "\n",
    "\n",
    "\n"
   ]
  }
 ],
 "metadata": {
  "kernelspec": {
   "display_name": "Python 3",
   "language": "python",
   "name": "python3"
  },
  "language_info": {
   "codemirror_mode": {
    "name": "ipython",
    "version": 3
   },
   "file_extension": ".py",
   "mimetype": "text/x-python",
   "name": "python",
   "nbconvert_exporter": "python",
   "pygments_lexer": "ipython3",
   "version": "3.10.11"
  }
 },
 "nbformat": 4,
 "nbformat_minor": 2
}
