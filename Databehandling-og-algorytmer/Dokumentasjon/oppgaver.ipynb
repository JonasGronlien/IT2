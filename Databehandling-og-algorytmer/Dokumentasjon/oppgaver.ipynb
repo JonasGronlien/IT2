{
 "cells": [
  {
   "cell_type": "code",
   "execution_count": null,
   "metadata": {},
   "outputs": [],
   "source": [
    "#OPPGAVE 3.17\n",
    "a = float(input(\"Grunnlinje (cm): \"))\n",
    "b = float(input(\"Høyde (cm): \"))\n",
    "c = a*b/2\n",
    "\n",
    "print(f\"Arealet er {c} cm^2\")"
   ]
  },
  {
   "cell_type": "code",
   "execution_count": null,
   "metadata": {},
   "outputs": [],
   "source": [
    "# OPPGAVE 3.19\n",
    "\"\"\"\n",
    "attributter \n",
    "    navn (str): Navnet på hunden \n",
    "    alder (int): alder på hunden \n",
    "    rase (str): hunderasen \n",
    "\n",
    "metoder\n",
    "    bjeff \n",
    "    vift på halen \n",
    "\"\"\"\n",
    "class Hund:\n",
    "    def __init__(self, navn: str, alder: int, rase: str):\n",
    "        self.navn = navn\n",
    "        self.alder = alder\n",
    "        self.rase = rase\n",
    " \n",
    "    def bjeff(self):\n",
    "        return f\"{self.navn} sier: Woof!\"\n",
    " \n",
    "    def vift_på_halen(self):\n",
    "        return f\"{self.navn} vifter på halen!\"\n",
    " \n",
    "    def info(self):\n",
    "        return f\"{self.navn} er en {self.alder} år gammel {self.rase}.\"\n",
    " \n",
    "# Test av klassen\n",
    "if __name__ == \"__main__\":\n",
    "    min_hund = Hund(\"Rex\", 5, \"Schäfer\")\n",
    "    print(min_hund.bjeff())\n",
    "    print(min_hund.vift_på_halen())\n",
    "    print(min_hund.info())"
   ]
  }
 ],
 "metadata": {
  "language_info": {
   "name": "python"
  }
 },
 "nbformat": 4,
 "nbformat_minor": 2
}
