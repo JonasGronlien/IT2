{
 "cells": [
  {
   "cell_type": "markdown",
   "metadata": {},
   "source": [
    "# Løkker og ordbøker"
   ]
  },
  {
   "cell_type": "markdown",
   "metadata": {},
   "source": [
    "## Eksempel: For-løkke og ordbok"
   ]
  },
  {
   "cell_type": "code",
   "execution_count": 2,
   "metadata": {},
   "outputs": [
    {
     "name": "stdout",
     "output_type": "stream",
     "text": [
      "David Ravi Manikarnika\n",
      "Databrus\n"
     ]
    }
   ],
   "source": [
    "lærer = {\n",
    "    \"navn\": \"David Ravi Manikarnika\",\n",
    "    \"alder\": 39,\n",
    "    \"yrke\": \"Lærer\",\n",
    "    \"favorittmat\": [\"pasta\", \"grandiosa\", \"Databrus\"],\n",
    "    123: \"favorittall\",#tall kan også være nøkler, men det er litt uvanlig,\n",
    "    (\"alder\", \"yrke\"): [39, \"lærer\"] #tupler (en slags liste kan også være lister, ikke vanlig i IT2)\n",
    "}\n",
    "\n",
    "\n",
    "#oppvarming \n",
    "# a. print lærer \n",
    "print(lærer[\"navn\"])\n",
    "# b. print databrus\n",
    "print(lærer[\"favorittmat\"][2])"
   ]
  },
  {
   "cell_type": "code",
   "execution_count": 4,
   "metadata": {},
   "outputs": [
    {
     "name": "stdout",
     "output_type": "stream",
     "text": [
      "navn David Ravi Manikarnika\n",
      "alder 39\n",
      "yrke Lærer\n",
      "favorittmat ['pasta', 'grandiosa', 'Databrus']\n",
      "123 favorittall\n",
      "('alder', 'yrke') [39, 'lærer']\n"
     ]
    }
   ],
   "source": [
    "for nøkkel in lærer: #en for løkke som går gjennom en ordbok vil gå gjennom nøklene i ordboken \n",
    "    print(f\"{nøkkel, lærer[nøkkel]}\")\n",
    "    "
   ]
  },
  {
   "cell_type": "markdown",
   "metadata": {},
   "source": [
    "## Eksempel: Telling med ordbøker"
   ]
  },
  {
   "cell_type": "code",
   "execution_count": 19,
   "metadata": {},
   "outputs": [
    {
     "name": "stdout",
     "output_type": "stream",
     "text": [
      "{'navn': 'Lewis Hamilton', 'nasjonalitet': 'britisk', 'team': 'Mercedes', 'bilnummer': 44}\n",
      "Lewis Hamilton\n",
      "britisk\n",
      "Mercedes\n",
      "44\n",
      "Daniel Ricciardo\n",
      "australsk\n",
      "McLaren\n",
      "3\n",
      "Lando Norris\n",
      "britisk\n",
      "McLaren\n",
      "4\n",
      "Esteban Ocon\n",
      "fransk\n",
      "Alpine\n",
      "31\n",
      "George Russell\n",
      "britisk\n",
      "Williams\n",
      "63\n",
      "Pierre Gasly\n",
      "fransk\n",
      "AlphaTauri\n",
      "10\n"
     ]
    }
   ],
   "source": [
    "f1_sjåfører = [\n",
    "    {\"navn\": \"Lewis Hamilton\", \"nasjonalitet\": \"britisk\", \"team\": \"Mercedes\", \"bilnummer\": 44},\n",
    "    {\"navn\": \"Daniel Ricciardo\", \"nasjonalitet\": \"australsk\", \"team\": \"McLaren\", \"bilnummer\": 3},\n",
    "    {\"navn\": \"Lando Norris\", \"nasjonalitet\": \"britisk\", \"team\": \"McLaren\", \"bilnummer\": 4},\n",
    "    {\"navn\": \"Esteban Ocon\", \"nasjonalitet\": \"fransk\", \"team\": \"Alpine\", \"bilnummer\": 31},\n",
    "    {\"navn\": \"George Russell\", \"nasjonalitet\": \"britisk\", \"team\": \"Williams\", \"bilnummer\": 63},\n",
    "    {\"navn\": \"Pierre Gasly\", \"nasjonalitet\": \"fransk\", \"team\": \"AlphaTauri\", \"bilnummer\": 10},\n",
    "]\n",
    "lewis = f1_sjåfører[0]\n",
    "print(lewis)\n",
    "\n",
    "for sjåfør in f1_sjåfører:\n",
    "    for nøkkel in sjåfør:\n",
    "        print(sjåfør[nøkkel])\n"
   ]
  },
  {
   "cell_type": "code",
   "execution_count": 14,
   "metadata": {},
   "outputs": [
    {
     "name": "stdout",
     "output_type": "stream",
     "text": [
      "antall briter: 3\n"
     ]
    }
   ],
   "source": [
    "antall_briter = 0\n",
    "for sjåfør in f1_sjåfører:\n",
    "    if sjåfør[\"nasjonalitet\"] == \"britisk\":\n",
    "        antall_briter += 1\n",
    "print(f\"antall briter: {antall_briter}\")"
   ]
  },
  {
   "cell_type": "code",
   "execution_count": null,
   "metadata": {},
   "outputs": [],
   "source": [
    "nasjonaliteter = {}\n",
    "nasjonaliteter[\"britisk\"] = 3\n",
    "nasjonaliteter[\"tysk\"] = 2\n",
    "print(nasjonaliteter)\n",
    "print(nasjonaliteter[\"britisk\"])"
   ]
  },
  {
   "cell_type": "code",
   "execution_count": 16,
   "metadata": {},
   "outputs": [
    {
     "name": "stdout",
     "output_type": "stream",
     "text": [
      "{'britisk': 3, 'australsk': 1, 'fransk': 2}\n"
     ]
    }
   ],
   "source": [
    "antall_nasjonaliteter = {}\n",
    "for sjåfør in f1_sjåfører:\n",
    "    nasjonalitet_sjåfør = sjåfør[\"nasjonalitet\"]\n",
    "    if nasjonalitet_sjåfør not in antall_nasjonaliteter:\n",
    "        antall_nasjonaliteter[nasjonalitet_sjåfør] = 1\n",
    "    else:\n",
    "        antall_nasjonaliteter[nasjonalitet_sjåfør] += 1\n",
    "\n",
    "print(antall_nasjonaliteter)"
   ]
  },
  {
   "cell_type": "code",
   "execution_count": null,
   "metadata": {},
   "outputs": [],
   "source": [
    "# API-er \n",
    "import requests \n",
    "from IPython.display import image \n",
    "\n",
    "respons = requests.get(\"https://deckofcardsapi.com/api/deck/new/draw/?count=2\")\n",
    "data = respons.json()\n",
    "data[\"cards\"][0][\"image\"]"
   ]
  },
  {
   "cell_type": "code",
   "execution_count": 46,
   "metadata": {},
   "outputs": [],
   "source": [
    "import requests\n",
    "import json\n",
    "# dumper dataen i en json-fil\n",
    "respons = requests.get(\"https://api.met.no/weatherapi/locationforecast/2.0/complete?lat=60.10&lon=10\" , headers={ 'User-Agent': 'Python'})\n",
    "data = respons.json()\n",
    "with open(\"met.json\", \"w\", encoding=\"utf-8\") as fil:\n",
    "    json.dump(data, fil, indent=2, ensure_ascii=False)"
   ]
  },
  {
   "cell_type": "code",
   "execution_count": 47,
   "metadata": {},
   "outputs": [
    {
     "name": "stdout",
     "output_type": "stream",
     "text": [
      "I Sandvika er det 0.5 grader og clearsky_day\n"
     ]
    }
   ],
   "source": [
    "# dumper dataen i en json-fil\n",
    "respons = requests.get(\"https://api.met.no/weatherapi/locationforecast/2.0/complete?lat=60.10&lon=10\" , headers={ 'User-Agent': 'Python'})\n",
    "data = respons.json()\n",
    "#with open(\"met.json\", \"w\", encoding=\"utf-8\") as fil:\n",
    "#    json.dump(data, fil, indent=2, ensure_ascii=False)\n",
    "værtype = data[\"properties\"][\"timeseries\"][0][\"data\"][\"next_1_hours\"][\"summary\"][\"symbol_code\"]\n",
    "temperatur = data[\"properties\"][\"timeseries\"][0][\"data\"][\"instant\"][\"details\"][\"air_temperature\"]\n",
    "print(f\"I Sandvika er det {temperatur} grader og {værtype}\")"
   ]
  },
  {
   "cell_type": "markdown",
   "metadata": {},
   "source": [
    "## Oppgaver"
   ]
  },
  {
   "cell_type": "markdown",
   "metadata": {},
   "source": [
    "### Oppgave 2.9\n",
    "\n",
    "1. Kopier listen med vinnere av gullballen 👇👇 inn i en python-fil og print ordboken til den første spilleren.\n",
    "2. Lag en for-løkke som printer navn og nasjonalitet på hver spiller.\n",
    "3. Utvid koden slik at for-løkken også printer antall gullballer spillerne har vunnet."
   ]
  },
  {
   "cell_type": "code",
   "execution_count": 18,
   "metadata": {},
   "outputs": [
    {
     "name": "stdout",
     "output_type": "stream",
     "text": [
      "{'navn': 'Luís Figo', 'år': [2000], 'nasjonalitet': 'Portugal', 'klubber': ['Real Madrid']}\n"
     ]
    }
   ],
   "source": [
    "gullballen = [\n",
    "  {\n",
    "    \"navn\": \"Luís Figo\",\n",
    "    \"år\": [2000],\n",
    "    \"nasjonalitet\": \"Portugal\",\n",
    "    \"klubber\": [\"Real Madrid\"]\n",
    "  },\n",
    "  {\n",
    "    \"navn\": \"Michael Owen\",\n",
    "    \"år\": [2001],\n",
    "    \"nasjonalitet\": \"England\",\n",
    "    \"klubber\": [\"Liverpool\"]\n",
    "  },\n",
    "  {\n",
    "    \"navn\": \"Ronaldo\",\n",
    "    \"år\": [2002],\n",
    "    \"nasjonalitet\": \"Brasil\",\n",
    "    \"klubber\": [\"Real Madrid\"]\n",
    "  },\n",
    "  {\n",
    "    \"navn\": \"Pavel Nedvěd\",\n",
    "    \"år\": [2003],\n",
    "    \"nasjonalitet\": \"Tsjekkia\",\n",
    "    \"klubber\": [\"Juventus\"]\n",
    "  },\n",
    "  {\n",
    "    \"navn\": \"Andriy Shevchenko\",\n",
    "    \"år\": [2004],\n",
    "    \"nasjonalitet\": \"Ukraina\",\n",
    "    \"klubber\": [\"Milan\"]\n",
    "  },\n",
    "  {\n",
    "    \"navn\": \"Ronaldinho\",\n",
    "    \"år\": [2005],\n",
    "    \"nasjonalitet\": \"Brasil\",\n",
    "    \"klubber\": [\"Barcelona\"]\n",
    "  },\n",
    "  {\n",
    "    \"navn\": \"Fabio Cannavaro\",\n",
    "    \"år\": [2006],\n",
    "    \"nasjonalitet\": \"Italia\",\n",
    "    \"klubber\": [\"Real Madrid\"]\n",
    "  },\n",
    "  {\n",
    "    \"navn\": \"Kaká\",\n",
    "    \"år\": [2007],\n",
    "    \"nasjonalitet\": \"Brasil\",\n",
    "    \"klubber\": [\"Milan\"]\n",
    "  },\n",
    "  {\n",
    "    \"navn\": \"Cristiano Ronaldo\",\n",
    "    \"år\": [2008, 2013, 2014, 2016, 2017],\n",
    "    \"nasjonalitet\": \"Portugal\",\n",
    "    \"klubber\": [\"Manchester United\", \"Real Madrid\"]\n",
    "  },\n",
    "  {\n",
    "    \"navn\": \"Lionel Messi\",\n",
    "    \"år\": [2009, 2010, 2011, 2012, 2015, 2019, 2021, 2023],\n",
    "    \"nasjonalitet\": \"Argentina\",\n",
    "    \"klubber\": [\"Barcelona\", \"Paris Saint-Germain F.C.\", \"Inter Miami\"]\n",
    "  },\n",
    "  {\n",
    "    \"navn\": \"Luka Modric\",\n",
    "    \"år\": [2018],\n",
    "    \"nasjonalitet\": \"Kroatia\",\n",
    "    \"klubber\": [\"Real Madrid\"]\n",
    "  },\n",
    "  {\n",
    "    \"navn\": \"Karim Benzema\",\n",
    "    \"år\": [2022],\n",
    "    \"nasjonalitet\": \"Frankrike\",\n",
    "    \"klubber\": [\"Real Madrid\"]\n",
    "  }\n",
    "]\n",
    "Luis_figo = gullballen[0]\n",
    "print(Luis_figo)\n",
    "\n",
    "  \n"
   ]
  },
  {
   "cell_type": "code",
   "execution_count": 30,
   "metadata": {},
   "outputs": [
    {
     "name": "stdout",
     "output_type": "stream",
     "text": [
      "Luís Figo Portugal 1\n",
      "Michael Owen England 1\n",
      "Ronaldo Brasil 1\n",
      "Pavel Nedvěd Tsjekkia 1\n",
      "Andriy Shevchenko Ukraina 1\n",
      "Ronaldinho Brasil 1\n",
      "Fabio Cannavaro Italia 1\n",
      "Kaká Brasil 1\n",
      "Cristiano Ronaldo Portugal 5\n",
      "Lionel Messi Argentina 8\n",
      "Luka Modric Kroatia 1\n",
      "Karim Benzema Frankrike 1\n"
     ]
    }
   ],
   "source": [
    "for spillere in gullballen:\n",
    "    antall_gullballer = len(spillere[\"år\"])\n",
    "    print(spillere['navn'], spillere['nasjonalitet'], antall_gullballer)\n"
   ]
  },
  {
   "cell_type": "markdown",
   "metadata": {},
   "source": [
    "### Oppgave 2.10\n",
    "\n",
    "1. Kopier listen med informasjon over de 30 mest fulgte Instagram-kontoene 👇👇 inn i en python-fil.\n",
    "2. Hvor mange følgere har kontoene på listen i gjennomsnitt?\n",
    "3. Hvor mange kontoer på listen kommer ikke fra USA?\n"
   ]
  },
  {
   "cell_type": "code",
   "execution_count": 32,
   "metadata": {},
   "outputs": [
    {
     "name": "stdout",
     "output_type": "stream",
     "text": [
      "{'name': 'Cristiano Ronaldo', 'account': '@cristiano', 'followers': 617.16, 'nationality': 'Portugal'}\n"
     ]
    }
   ],
   "source": [
    "top_30 = [\n",
    "    {\"name\": \"Cristiano Ronaldo\", \"account\": \"@cristiano\", \"followers\": 617.16, \"nationality\": \"Portugal\"},\n",
    "    {\"name\": \"Leo Messi\", \"account\": \"@leomessi\", \"followers\": 497.05, \"nationality\": \"Argentina\"},\n",
    "    {\"name\": \"Selena Gomez\", \"account\": \"@selenagomez\", \"followers\": 429.66, \"nationality\": \"United States\"},\n",
    "    {\"name\": \"Kylie Jenner\", \"account\": \"@kyliejenner\", \"followers\": 399.45, \"nationality\": \"United States\"},\n",
    "    {\"name\": \"Dwayne Johnson\", \"account\": \"@therock\", \"followers\": 395.59, \"nationality\": \"United States\"},\n",
    "    {\"name\": \"Ariana Grande\", \"account\": \"@arianagrande\", \"followers\": 380.78, \"nationality\": \"United States\"},\n",
    "    {\"name\": \"Kim Kardashian\", \"account\": \"@kimkardashian\", \"followers\": 364, \"nationality\": \"United States\"},\n",
    "    {\"name\": \"Beyoncé\", \"account\": \"@beyonce\", \"followers\": 319.6, \"nationality\": \"United States\"},\n",
    "    {\"name\": \"Khloé Kardashian\", \"account\": \"@khloekardashian\", \"followers\": 311.3, \"nationality\": \"United States\"},\n",
    "    {\"name\": \"Nike\", \"account\": \"@nike\", \"followers\": 306, \"nationality\": \"United States\"},\n",
    "    {\"name\": \"Justin Bieber\", \"account\": \"@justinbieber\", \"followers\": 304.9, \"nationality\": \"Canada\"},\n",
    "    {\"name\": \"Taylor Swift\", \"account\": \"@taylorswift\", \"followers\": 282.8, \"nationality\": \"United States\"},\n",
    "    {\"name\": \"Neymar Jr\", \"account\": \"@neymarjr\", \"followers\": 282.7, \"nationality\": \"Brazil\"},\n",
    "    {\"name\": \"Kendall Jenner\", \"account\": \"@kendalljenner\", \"followers\": 279.9, \"nationality\": \"United States\"}, \n",
    "    {\"name\": \"Jennifer Lopez\", \"account\": \"@jlo\", \"followers\": 277.2, \"nationality\": \"United States\"},\n",
    "    {\"name\": \"Nicki Minaj\", \"account\": \"@nickiminaj\", \"followers\": 262.5, \"nationality\": \"Trinidad and Tobago\"},\n",
    "    {\"name\": \"National Geographic\", \"account\": \"@natgeo\", \"followers\": 206.9, \"nationality\": \"United States\"},\n",
    "    {\"name\": \"Lionel Andrés Messi Cuccittini\", \"account\": \"@leomessi10\", \"followers\": 201.8, \"nationality\": \"Argentina\"},\n",
    "    {\"name\": \"Miley Cyrus\", \"account\": \"@mileycyrus\", \"followers\": 198.7, \"nationality\": \"United States\"},\n",
    "    {\"name\": \"Katy Perry\", \"account\": \"@katyperry\", \"followers\": 198.4, \"nationality\": \"United States\"},\n",
    "    {\"name\": \"Kourtney Kardashian\", \"account\": \"@kourtneykardash\", \"followers\": 196.8, \"nationality\": \"United States\"},\n",
    "    {\"name\": \"Kevin Hart\", \"account\": \"@kevinhart4real\", \"followers\": 195.8, \"nationality\": \"United States\"},\n",
    "    {\"name\": \"Ellen DeGeneres\", \"account\": \"@theellenshow\", \"followers\": 194.7, \"nationality\": \"United States\"},\n",
    "    {\"name\": \"Virat Kohli\", \"account\": \"@virat.kohli\", \"followers\": 194.5, \"nationality\": \"India\"},\n",
    "    {\"name\": \"Billie Eilish\", \"account\": \"@billieeilish\", \"followers\": 193.9, \"nationality\": \"United States\"},\n",
    "    {\"name\": \"Rihanna\", \"account\": \"@badgalriri\", \"followers\": 191.5, \"nationality\": \"Barbados\"},\n",
    "    {\"name\": \"Zendaya\", \"account\": \"@zendaya\", \"followers\": 190.9, \"nationality\": \"United States\"},\n",
    "    {\"name\": \"Drake\", \"account\": \"@champagnepapi\", \"followers\": 190.8, \"nationality\": \"Canada\"},\n",
    "    {\"name\": \"Emma Watson\", \"account\": \"@emmawatson\", \"followers\": 189.7, \"nationality\": \"United Kingdom\"},\n",
    "    {\"name\": \"LeBron James\", \"account\": \"@kingjames\", \"followers\": 188.8, \"nationality\": \"United States\"}\n",
    "]\n",
    "Christiano_Ronaldo = top_30[0]\n",
    "print(Christiano_Ronaldo)\n"
   ]
  },
  {
   "cell_type": "code",
   "execution_count": 40,
   "metadata": {},
   "outputs": [
    {
     "name": "stdout",
     "output_type": "stream",
     "text": [
      "8443.789999999999\n",
      "281.45966666666664\n"
     ]
    }
   ],
   "source": [
    "følgere = 0 \n",
    "for i in top_30:\n",
    "    følgere += i[\"followers\"]\n",
    "print(følgere)\n",
    "gjennomsnitt = følgere/len(top_30)\n",
    "print(gjennomsnitt)\n",
    "    \n",
    "    \n",
    "    "
   ]
  },
  {
   "cell_type": "code",
   "execution_count": 49,
   "metadata": {},
   "outputs": [
    {
     "name": "stdout",
     "output_type": "stream",
     "text": [
      "10\n"
     ]
    }
   ],
   "source": [
    "antall_ikkeUSA = 0 \n",
    "for konto in top_30:\n",
    "    if konto[\"nationality\"] != \"United States\":\n",
    "        antall_ikkeUSA += 1\n",
    "print(antall_ikkeUSA)"
   ]
  },
  {
   "cell_type": "markdown",
   "metadata": {},
   "source": [
    "### Oppgave 2.11\n",
    "\n",
    "1. Kopier listen med informasjon over de 30 mest befolkede land 👇👇 inn i en python-fil og print ordboken til Argentina.\n",
    "2. Lag en for-løkke som printer navn, hovedstad og antall språk for hvert land.\n",
    "3. Hvilket land har flest språk?\n",
    "4. Lag en ordbok som holder oversikt over språk og antall land som har språket som offisielt språk.\n",
    "    - Tips: Språk er en liste - du burde bruke en for-løkke som går gjennom språk inne i for-løkken for land.\n",
    "5. Sorter ordboken og print ut språket med flest land og antall land.\n",
    "    - Tips: [les eksempel om sortering av ordøker med verdier](https://it2.thorcc.no/databehandling-og-algoritmer/lokker-lister-og-ordboker#sortering-av-ordb%C3%B8ker-med-verdier)\n",
    "    - Fasit: `Engelsk: 7`"
   ]
  },
  {
   "cell_type": "code",
   "execution_count": 2,
   "metadata": {},
   "outputs": [],
   "source": [
    "land_info = [\n",
    "    {\"land\": \"Kina\", \"hovedstad\": \"Beijing\", \"befolkning\": 1410000000, \"språk\": [\"Mandarin\"]},\n",
    "    {\"land\": \"India\", \"hovedstad\": \"New Delhi\", \"befolkning\": 1390000000, \"språk\": [\"Hindi\", \"Engelsk\"]},\n",
    "    {\"land\": \"USA\", \"hovedstad\": \"Washington, D.C.\", \"befolkning\": 331000000, \"språk\": [\"Engelsk\"]},\n",
    "    {\"land\": \"Indonesia\", \"hovedstad\": \"Jakarta\", \"befolkning\": 273000000, \"språk\": [\"Indonesisk\"]},\n",
    "    {\"land\": \"Pakistan\", \"hovedstad\": \"Islamabad\", \"befolkning\": 225000000, \"språk\": [\"Urdu\", \"Engelsk\"]},\n",
    "    {\"land\": \"Brasil\", \"hovedstad\": \"Brasília\", \"befolkning\": 213000000, \"språk\": [\"Portugisisk\"]},\n",
    "    {\"land\": \"Nigeria\", \"hovedstad\": \"Abuja\", \"befolkning\": 211000000, \"språk\": [\"Engelsk\"]},\n",
    "    {\"land\": \"Bangladesh\", \"hovedstad\": \"Dhaka\", \"befolkning\": 166000000, \"språk\": [\"Bengali\"]},\n",
    "    {\"land\": \"Russland\", \"hovedstad\": \"Moskva\", \"befolkning\": 146000000, \"språk\": [\"Russisk\"]},\n",
    "    {\"land\": \"Mexico\", \"hovedstad\": \"Mexico City\", \"befolkning\": 128000000, \"språk\": [\"Spansk\"]},\n",
    "    {\"land\": \"Japan\", \"hovedstad\": \"Tokyo\", \"befolkning\": 125000000, \"språk\": [\"Japansk\"]},\n",
    "    {\"land\": \"Etiopia\", \"hovedstad\": \"Addis Ababa\", \"befolkning\": 118000000, \"språk\": [\"Amharisk\"]},\n",
    "    {\"land\": \"Filippinene\", \"hovedstad\": \"Manila\", \"befolkning\": 113000000, \"språk\": [\"Filippinsk\"]},\n",
    "    {\"land\": \"Egypt\", \"hovedstad\": \"Kairo\", \"befolkning\": 104000000, \"språk\": [\"Arabisk\"]},\n",
    "    {\"land\": \"Vietnam\", \"hovedstad\": \"Hanoi\", \"befolkning\": 97400000, \"språk\": [\"Vietnamesisk\"]},\n",
    "    {\"land\": \"DR Kongo\", \"hovedstad\": \"Kinshasa\", \"befolkning\": 90000000, \"språk\": [\"Fransk\"]},\n",
    "    {\"land\": \"Turkey\", \"hovedstad\": \"Ankara\", \"befolkning\": 83700000, \"språk\": [\"Tyrkisk\"]},\n",
    "    {\"land\": \"Iran\", \"hovedstad\": \"Teheran\", \"befolkning\": 83700000, \"språk\": [\"Persisk\"]},\n",
    "    {\"land\": \"Tyskland\", \"hovedstad\": \"Berlin\", \"befolkning\": 83000000, \"språk\": [\"Tysk\"]},\n",
    "    {\"land\": \"Thailand\", \"hovedstad\": \"Bangkok\", \"befolkning\": 70000000, \"språk\": [\"Thai\"]},\n",
    "    {\"land\": \"Frankrike\", \"hovedstad\": \"Paris\", \"befolkning\": 67000000, \"språk\": [\"Fransk\"]},\n",
    "    {\"land\": \"Storbritannia\", \"hovedstad\": \"London\", \"befolkning\": 67000000, \"språk\": [\"Engelsk\"]},\n",
    "    {\"land\": \"Italia\", \"hovedstad\": \"Roma\", \"befolkning\": 60300000, \"språk\": [\"Italiensk\"]},\n",
    "    {\"land\": \"Sør-Afrika\", \"hovedstad\": \"Pretoria, Cape Town, Bloemfontein\", \"befolkning\": 60000000,\n",
    "     \"språk\": [\"Afrikaans\", \"Engelsk\", \"isiNdebele\", \"isiXhosa\", \"isiZulu\", \"sesotho\", \"Setswana\", \"siSwati\", \"Tshivenda\", \"Xitsonga\"]},\n",
    "    {\"land\": \"Myanmar\", \"hovedstad\": \"Naypyidaw\", \"befolkning\": 54400000, \"språk\": [\"Burmese\"]},\n",
    "    {\"land\": \"Sør-Korea\", \"hovedstad\": \"Seoul\", \"befolkning\": 51700000, \"språk\": [\"Koreansk\"]},\n",
    "    {\"land\": \"Colombia\", \"hovedstad\": \"Bogotá\", \"befolkning\": 50300000, \"språk\": [\"Spansk\"]},\n",
    "    {\"land\": \"Kenya\", \"hovedstad\": \"Nairobi\", \"befolkning\": 49000000, \"språk\": [\"Swahili\", \"Engelsk\"]},\n",
    "    {\"land\": \"Spania\", \"hovedstad\": \"Madrid\", \"befolkning\": 47000000, \"språk\": [\"Spansk\"]},\n",
    "    {\"land\": \"Argentina\", \"hovedstad\": \"Buenos Aires\", \"befolkning\": 45000000, \"språk\": [\"Spansk\"]},\n",
    "]"
   ]
  },
  {
   "cell_type": "code",
   "execution_count": 3,
   "metadata": {},
   "outputs": [
    {
     "name": "stdout",
     "output_type": "stream",
     "text": [
      "Beijing, antall språk: 1\n",
      "New Delhi, antall språk: 2\n",
      "Washington, D.C., antall språk: 1\n",
      "Jakarta, antall språk: 1\n",
      "Islamabad, antall språk: 2\n",
      "Brasília, antall språk: 1\n",
      "Abuja, antall språk: 1\n",
      "Dhaka, antall språk: 1\n",
      "Moskva, antall språk: 1\n",
      "Mexico City, antall språk: 1\n",
      "Tokyo, antall språk: 1\n",
      "Addis Ababa, antall språk: 1\n",
      "Manila, antall språk: 1\n",
      "Kairo, antall språk: 1\n",
      "Hanoi, antall språk: 1\n",
      "Kinshasa, antall språk: 1\n",
      "Ankara, antall språk: 1\n",
      "Teheran, antall språk: 1\n",
      "Berlin, antall språk: 1\n",
      "Bangkok, antall språk: 1\n",
      "Paris, antall språk: 1\n",
      "London, antall språk: 1\n",
      "Roma, antall språk: 1\n",
      "Pretoria, Cape Town, Bloemfontein, antall språk: 10\n",
      "Naypyidaw, antall språk: 1\n",
      "Seoul, antall språk: 1\n",
      "Bogotá, antall språk: 1\n",
      "Nairobi, antall språk: 2\n",
      "Madrid, antall språk: 1\n",
      "Buenos Aires, antall språk: 1\n"
     ]
    }
   ],
   "source": [
    "\n",
    "for land in land_info:\n",
    "    print(f\"{land['hovedstad']}, antall språk: {len(land['språk'])}\")"
   ]
  },
  {
   "cell_type": "code",
   "execution_count": 4,
   "metadata": {},
   "outputs": [
    {
     "name": "stdout",
     "output_type": "stream",
     "text": [
      "Sør-Afrika\n"
     ]
    }
   ],
   "source": [
    "flest_språk=land_info[0]\n",
    " \n",
    "for land in land_info:\n",
    "    if len(land[\"språk\"])> len(flest_språk[\"språk\"]):\n",
    "        flest_språk= land\n",
    " \n",
    "print(flest_språk[\"land\"])"
   ]
  },
  {
   "cell_type": "code",
   "execution_count": 5,
   "metadata": {},
   "outputs": [
    {
     "data": {
      "text/plain": [
       "{'Mandarin': 1,\n",
       " 'Hindi': 1,\n",
       " 'Engelsk': 7,\n",
       " 'Indonesisk': 1,\n",
       " 'Urdu': 1,\n",
       " 'Portugisisk': 1,\n",
       " 'Bengali': 1,\n",
       " 'Russisk': 1,\n",
       " 'Spansk': 4,\n",
       " 'Japansk': 1,\n",
       " 'Amharisk': 1,\n",
       " 'Filippinsk': 1,\n",
       " 'Arabisk': 1,\n",
       " 'Vietnamesisk': 1,\n",
       " 'Fransk': 2,\n",
       " 'Tyrkisk': 1,\n",
       " 'Persisk': 1,\n",
       " 'Tysk': 1,\n",
       " 'Thai': 1,\n",
       " 'Italiensk': 1,\n",
       " 'Afrikaans': 1,\n",
       " 'isiNdebele': 1,\n",
       " 'isiXhosa': 1,\n",
       " 'isiZulu': 1,\n",
       " 'sesotho': 1,\n",
       " 'Setswana': 1,\n",
       " 'siSwati': 1,\n",
       " 'Tshivenda': 1,\n",
       " 'Xitsonga': 1,\n",
       " 'Burmese': 1,\n",
       " 'Koreansk': 1,\n",
       " 'Swahili': 1}"
      ]
     },
     "execution_count": 5,
     "metadata": {},
     "output_type": "execute_result"
    }
   ],
   "source": [
    "antall_land_språk={}\n",
    "for land in land_info:\n",
    "    for språk in land[\"språk\"]:\n",
    "        if språk not in antall_land_språk:\n",
    "            antall_land_språk[språk]=1\n",
    "        else:\n",
    "            antall_land_språk[språk]+=1\n",
    "antall_land_språk           "
   ]
  },
  {
   "cell_type": "code",
   "execution_count": 60,
   "metadata": {},
   "outputs": [
    {
     "name": "stdout",
     "output_type": "stream",
     "text": [
      "[('Mandarin', 1), ('Hindi', 1), ('Indonesisk', 1), ('Urdu', 1), ('Portugisisk', 1), ('Bengali', 1), ('Russisk', 1), ('Japansk', 1), ('Amharisk', 1), ('Filippinsk', 1), ('Arabisk', 1), ('Vietnamesisk', 1), ('Tyrkisk', 1), ('Persisk', 1), ('Tysk', 1), ('Thai', 1), ('Italiensk', 1), ('Afrikaans', 1), ('isiNdebele', 1), ('isiXhosa', 1), ('isiZulu', 1), ('sesotho', 1), ('Setswana', 1), ('siSwati', 1), ('Tshivenda', 1), ('Xitsonga', 1), ('Burmese', 1), ('Koreansk', 1), ('Swahili', 1), ('Fransk', 2), ('Spansk', 4), ('Engelsk', 7)]\n",
      "Engelsk\n"
     ]
    }
   ],
   "source": [
    "antall_land_språk_liste = antall_land_språk.items()\n",
    " \n",
    "antall_land_språk_sortert = sorted(antall_land_språk_liste, key=lambda land: land[1]) # sorterer listen på det som ligger på plassering [1], altså verdien\n",
    "print(antall_land_språk_sortert)\n",
    "\n",
    "print(antall_land_språk_sortert[-1][0])"
   ]
  }
 ],
 "metadata": {
  "kernelspec": {
   "display_name": "Python 3",
   "language": "python",
   "name": "python3"
  },
  "language_info": {
   "codemirror_mode": {
    "name": "ipython",
    "version": 3
   },
   "file_extension": ".py",
   "mimetype": "text/x-python",
   "name": "python",
   "nbconvert_exporter": "python",
   "pygments_lexer": "ipython3",
   "version": "3.11.1"
  }
 },
 "nbformat": 4,
 "nbformat_minor": 2
}
