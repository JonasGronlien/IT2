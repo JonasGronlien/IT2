{
 "cells": [
  {
   "cell_type": "code",
   "execution_count": 5,
   "metadata": {},
   "outputs": [],
   "source": [
    "import requests \n",
    "\n",
    "url =\"https://www.wttr.in/sandvika?format=j1\"\n",
    "respons = requests.get(url)\n",
    "data = respons.json()"
   ]
  },
  {
   "cell_type": "code",
   "execution_count": 14,
   "metadata": {},
   "outputs": [
    {
     "name": "stdout",
     "output_type": "stream",
     "text": [
      "Sunny 1\n"
     ]
    }
   ],
   "source": [
    "data[\"current_condition\"][0][\"FeelsLikeC\"]#føles som\n",
    "værtype = data[\"current_condition\"][0][\"weatherDesc\"][0][\"value\"]#værtypen\n",
    "tempratur = data[\"current_condition\"][0][\"temp_C\"]#antall grader\n",
    "\n",
    "print(værtype, tempratur)\n"
   ]
  },
  {
   "cell_type": "code",
   "execution_count": 15,
   "metadata": {},
   "outputs": [
    {
     "name": "stdout",
     "output_type": "stream",
     "text": [
      "Clear  33\n"
     ]
    }
   ],
   "source": [
    "import requests \n",
    "\n",
    "sted = input(\"Sted: \")\n",
    "url =f\"https://www.wttr.in/{sted}?format=j1\"\n",
    "respons = requests.get(url)\n",
    "data = respons.json()\n",
    "\n",
    "data[\"current_condition\"][0][\"FeelsLikeC\"]#føles som\n",
    "værtype = data[\"current_condition\"][0][\"weatherDesc\"][0][\"value\"]#værtypen\n",
    "tempratur = data[\"current_condition\"][0][\"temp_C\"]#antall grader\n",
    "\n",
    "print(værtype, tempratur)"
   ]
  },
  {
   "cell_type": "code",
   "execution_count": 19,
   "metadata": {},
   "outputs": [],
   "source": [
    "def vær(sted):\n",
    "    import requests \n",
    "\n",
    "    sted = input(\"Sted: \")\n",
    "    url =f\"https://www.wttr.in/{sted}?format=j1\"\n",
    "    respons = requests.get(url)\n",
    "    data = respons.json()\n",
    "\n",
    "    data[\"current_condition\"][0][\"FeelsLikeC\"]#føles som\n",
    "    værtype = data[\"current_condition\"][0][\"weatherDesc\"][0][\"value\"]#værtypen\n",
    "    tempratur = data[\"current_condition\"][0][\"temp_C\"]#antall grader\n",
    "    return værtype, tempratur\n",
    "\n"
   ]
  }
 ],
 "metadata": {
  "kernelspec": {
   "display_name": "Python 3",
   "language": "python",
   "name": "python3"
  },
  "language_info": {
   "codemirror_mode": {
    "name": "ipython",
    "version": 3
   },
   "file_extension": ".py",
   "mimetype": "text/x-python",
   "name": "python",
   "nbconvert_exporter": "python",
   "pygments_lexer": "ipython3",
   "version": "3.10.11"
  }
 },
 "nbformat": 4,
 "nbformat_minor": 2
}
