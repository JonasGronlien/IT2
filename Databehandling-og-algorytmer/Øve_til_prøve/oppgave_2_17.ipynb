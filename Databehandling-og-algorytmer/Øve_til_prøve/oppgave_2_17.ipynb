{
 "cells": [
  {
   "cell_type": "code",
   "execution_count": 1,
   "metadata": {},
   "outputs": [],
   "source": [
    "import json \n",
    "with open(\"spotify_top_songs.json\", encoding=\"utf-8\") as fil:\n",
    "    sanger = json.load(fil) "
   ]
  },
  {
   "cell_type": "code",
   "execution_count": 2,
   "metadata": {},
   "outputs": [
    {
     "name": "stdout",
     "output_type": "stream",
     "text": [
      "{'navn': 'Believer', 'artist': 'Imagine Dragons', 'bilde_url': 'https://i.scdn.co/image/ab67616d00001e025675e83f707f1d7271e5cf8a', 'plassering': 173, 'forrige_plassering': 185, 'topplassering': 16, 'topp_dato': '2017-06-29', 'uker_paa_listen': 358, 'antall_streams': 8322500}\n"
     ]
    }
   ],
   "source": [
    "# hvilken sang har flest uker på listen \n",
    "flest = sanger[0]\n",
    "for sang in sanger: \n",
    "    if sang['uker_paa_listen'] > flest['uker_paa_listen']:\n",
    "        flest = sang \n",
    "print(flest)"
   ]
  },
  {
   "cell_type": "code",
   "execution_count": 3,
   "metadata": {},
   "outputs": [
    {
     "name": "stdout",
     "output_type": "stream",
     "text": [
      "Taylor Swift har tilsammen 120017297 streams med alle sangene på topplisten\n"
     ]
    }
   ],
   "source": [
    "#hvor mange streams har taylor swift til sammen på sangene hennes som er på topplista?\n",
    "total = 0\n",
    "for sang in sanger:\n",
    "    if sang[\"artist\"] == \"Taylor Swift\":\n",
    "        total += sang[\"antall_streams\"]\n",
    "print(f\"Taylor Swift har tilsammen {total} streams med alle sangene på topplisten\")\n"
   ]
  },
  {
   "cell_type": "code",
   "execution_count": 4,
   "metadata": {},
   "outputs": [
    {
     "name": "stdout",
     "output_type": "stream",
     "text": [
      "Me Leva Pra Casa / Escrito Nas Estrelas / Saudade - Ao Vivo gikk opp flest plasseringer\n"
     ]
    }
   ],
   "source": [
    "# 3. Hvilken sang gikk opp flest plasseringer fra forrige uke til denne?\n",
    "sang_størst_endring = sanger[0]\n",
    "størst_endring = sang_størst_endring[\"plassering\"] - sang_størst_endring[\"forrige_plassering\"]\n",
    "for sang in sanger:\n",
    "    if sang[\"forrige_plassering\"] != -1:\n",
    "        endring = sang[\"plassering\"] - sang[\"forrige_plassering\"]\n",
    "        if endring > størst_endring:\n",
    "            sang_størst_endring = sang\n",
    "            størst_endring = endring\n",
    "print(f\"{sang_størst_endring['navn']} gikk opp flest plasseringer\")"
   ]
  },
  {
   "cell_type": "code",
   "execution_count": null,
   "metadata": {},
   "outputs": [],
   "source": []
  }
 ],
 "metadata": {
  "kernelspec": {
   "display_name": "Python 3",
   "language": "python",
   "name": "python3"
  },
  "language_info": {
   "codemirror_mode": {
    "name": "ipython",
    "version": 3
   },
   "file_extension": ".py",
   "mimetype": "text/x-python",
   "name": "python",
   "nbconvert_exporter": "python",
   "pygments_lexer": "ipython3",
   "version": "3.11.1"
  }
 },
 "nbformat": 4,
 "nbformat_minor": 2
}
